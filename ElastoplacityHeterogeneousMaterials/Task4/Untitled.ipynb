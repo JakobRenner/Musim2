{
 "cells": [
  {
   "cell_type": "code",
   "execution_count": 1,
   "metadata": {
    "collapsed": false
   },
   "outputs": [],
   "source": [
    "import oofem_utils as oofem"
   ]
  },
  {
   "cell_type": "code",
   "execution_count": 5,
   "metadata": {
    "collapsed": false
   },
   "outputs": [
    {
     "name": "stdout",
     "output_type": "stream",
     "text": [
      "averaging the stress\n"
     ]
    },
    {
     "data": {
      "text/plain": [
       "Simulation(step=[])"
      ]
     },
     "execution_count": 5,
     "metadata": {},
     "output_type": "execute_result"
    }
   ],
   "source": [
    "outfile_elast = 'linear_elastic.out'\n",
    "data_elast = oofem.readOutputfile(outfile_elast, True)\n",
    "data_elast"
   ]
  },
  {
   "cell_type": "code",
   "execution_count": 14,
   "metadata": {
    "collapsed": false
   },
   "outputs": [
    {
     "name": "stdout",
     "output_type": "stream",
     "text": [
      "-rw-rw-r--. 1 kubus kubus 756758 Jun 11 16:28 homework_task4.pdf\n",
      "\n",
      "-rw-rw-r--. 1 kubus kubus  16512 Jun 11 23:44 j2_plasticity.in\n",
      "\n",
      "-rw-rw-r--. 1 kubus kubus   2513 Jun 11 23:22 Untitled.ipynb\n",
      "\n"
     ]
    }
   ],
   "source": [
    "filename = \"test.txt\"\n",
    "with open(filename) as f:\n",
    "    line = f.readline()\n",
    "    print(line)\n",
    "    line = f.readline()\n",
    "    print(line)\n",
    "    last_line = f.readlines()[-1]\n",
    "    print(last_line)"
   ]
  }
 ],
 "metadata": {
  "kernelspec": {
   "display_name": "Python 3",
   "language": "python",
   "name": "python3"
  },
  "language_info": {
   "codemirror_mode": {
    "name": "ipython",
    "version": 3
   },
   "file_extension": ".py",
   "mimetype": "text/x-python",
   "name": "python",
   "nbconvert_exporter": "python",
   "pygments_lexer": "ipython3",
   "version": "3.4.3"
  }
 },
 "nbformat": 4,
 "nbformat_minor": 0
}
